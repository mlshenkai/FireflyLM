{
 "cells": [
  {
   "cell_type": "code",
   "id": "initial_id",
   "metadata": {
    "collapsed": true,
    "ExecuteTime": {
     "end_time": "2025-01-07T12:34:35.442877Z",
     "start_time": "2025-01-07T12:34:35.438298Z"
    }
   },
   "source": [
    "import os\n",
    "os.chdir(\"/code-online/code/FireflyLM/fireflyllm\")"
   ],
   "outputs": [],
   "execution_count": 2
  },
  {
   "metadata": {
    "ExecuteTime": {
     "end_time": "2025-01-07T12:34:37.808297Z",
     "start_time": "2025-01-07T12:34:35.920637Z"
    }
   },
   "cell_type": "code",
   "source": "from transformers import AutoConfig\n",
   "id": "af7cd11ff898fc42",
   "outputs": [
    {
     "name": "stderr",
     "output_type": "stream",
     "text": [
      "/opt/anaconda/envs/llm_dev/lib/python3.11/site-packages/tqdm/auto.py:21: TqdmWarning: IProgress not found. Please update jupyter and ipywidgets. See https://ipywidgets.readthedocs.io/en/stable/user_install.html\n",
      "  from .autonotebook import tqdm as notebook_tqdm\n"
     ]
    }
   ],
   "execution_count": 3
  },
  {
   "metadata": {
    "ExecuteTime": {
     "end_time": "2025-01-06T06:36:35.126203Z",
     "start_time": "2025-01-06T06:36:35.113485Z"
    }
   },
   "cell_type": "code",
   "source": "config = AutoConfig.from_pretrained(\"/code-online/code/FireflyLM/fireflyllm/models\", trust_remote_code=True)",
   "id": "7610c731114da767",
   "outputs": [],
   "execution_count": 14
  },
  {
   "metadata": {
    "ExecuteTime": {
     "end_time": "2025-01-06T06:36:35.981496Z",
     "start_time": "2025-01-06T06:36:35.970674Z"
    }
   },
   "cell_type": "code",
   "source": "config",
   "id": "e912dc9b04deba4b",
   "outputs": [
    {
     "data": {
      "text/plain": [
       "FireflyConfig {\n",
       "  \"FFN_type\": \"softmoe_v3\",\n",
       "  \"_name_or_path\": \"/code-online/code/FireflyLM/fireflyllm/models\",\n",
       "  \"architectures\": [\n",
       "    \"FireflyForCausalLM\"\n",
       "  ],\n",
       "  \"attention_dropout\": 0.0,\n",
       "  \"auto_map\": {\n",
       "    \"AutoConfig\": \"configuration_firefly.FireflyConfig\",\n",
       "    \"AutoModelForCausalLM\": \"firefly_model.FireflyForCausalLM\"\n",
       "  },\n",
       "  \"bos_token_id\": 151643,\n",
       "  \"eos_token_id\": 151645,\n",
       "  \"hidden_act\": \"silu\",\n",
       "  \"hidden_size\": 1792,\n",
       "  \"initializer_range\": 0.02,\n",
       "  \"intermediate_size\": 1792,\n",
       "  \"max_position_embeddings\": 32768,\n",
       "  \"max_window_layers\": 21,\n",
       "  \"mlp_div_ratio\": 4,\n",
       "  \"mlp_type\": \"senet\",\n",
       "  \"model_type\": \"firefly\",\n",
       "  \"n_experts\": 6,\n",
       "  \"num_attention_heads\": 32,\n",
       "  \"num_hidden_layers\": 18,\n",
       "  \"num_key_value_heads\": 32,\n",
       "  \"rms_norm_eps\": 1e-06,\n",
       "  \"rope_theta\": 1000000.0,\n",
       "  \"sliding_window\": 32768,\n",
       "  \"slots_per_expert\": 1,\n",
       "  \"tie_word_embeddings\": false,\n",
       "  \"torch_dtype\": \"bfloat16\",\n",
       "  \"transformers_version\": \"4.39.3\",\n",
       "  \"use_cache\": true,\n",
       "  \"use_sliding_window\": false,\n",
       "  \"vocab_size\": 151936\n",
       "}"
      ]
     },
     "execution_count": 15,
     "metadata": {},
     "output_type": "execute_result"
    }
   ],
   "execution_count": 15
  },
  {
   "metadata": {
    "ExecuteTime": {
     "end_time": "2025-01-03T09:58:45.424460Z",
     "start_time": "2025-01-03T09:58:45.413034Z"
    }
   },
   "cell_type": "code",
   "source": "from transformers import AutoTokenizer",
   "id": "abda2fce7941ff17",
   "outputs": [],
   "execution_count": 6
  },
  {
   "metadata": {
    "ExecuteTime": {
     "end_time": "2025-01-03T09:59:03.267387Z",
     "start_time": "2025-01-03T09:59:02.960290Z"
    }
   },
   "cell_type": "code",
   "source": "tokenizer = AutoTokenizer.from_pretrained(\"./qwen_tokenizer\")",
   "id": "fdc3d27d889bdc8f",
   "outputs": [
    {
     "name": "stderr",
     "output_type": "stream",
     "text": [
      "Special tokens have been added in the vocabulary, make sure the associated word embeddings are fine-tuned or trained.\n"
     ]
    }
   ],
   "execution_count": 7
  },
  {
   "metadata": {
    "ExecuteTime": {
     "end_time": "2025-01-03T10:00:01.596024Z",
     "start_time": "2025-01-03T10:00:01.586507Z"
    }
   },
   "cell_type": "code",
   "source": "tokenizer.special_tokens_map",
   "id": "e8ef18736896e2db",
   "outputs": [
    {
     "data": {
      "text/plain": [
       "{'eos_token': '<|im_end|>',\n",
       " 'pad_token': '<|endoftext|>',\n",
       " 'additional_special_tokens': ['<|im_start|>', '<|im_end|>']}"
      ]
     },
     "execution_count": 8,
     "metadata": {},
     "output_type": "execute_result"
    }
   ],
   "execution_count": 8
  },
  {
   "metadata": {
    "ExecuteTime": {
     "end_time": "2025-01-03T10:01:16.285502Z",
     "start_time": "2025-01-03T10:01:16.277108Z"
    }
   },
   "cell_type": "code",
   "source": "tokenizer.pad_token",
   "id": "a0026c2db125b311",
   "outputs": [
    {
     "data": {
      "text/plain": [
       "'<|endoftext|>'"
      ]
     },
     "execution_count": 9,
     "metadata": {},
     "output_type": "execute_result"
    }
   ],
   "execution_count": 9
  },
  {
   "metadata": {
    "ExecuteTime": {
     "end_time": "2025-01-03T10:01:53.176775Z",
     "start_time": "2025-01-03T10:01:53.168394Z"
    }
   },
   "cell_type": "code",
   "source": "tokenizer.pad_token_id",
   "id": "eeb697fcc06f03f4",
   "outputs": [
    {
     "data": {
      "text/plain": [
       "151643"
      ]
     },
     "execution_count": 10,
     "metadata": {},
     "output_type": "execute_result"
    }
   ],
   "execution_count": 10
  },
  {
   "metadata": {
    "ExecuteTime": {
     "end_time": "2025-01-03T10:29:17.744994Z",
     "start_time": "2025-01-03T10:29:17.731983Z"
    }
   },
   "cell_type": "code",
   "source": [
    "import argparse\n",
    "\n",
    "# 创建一个 ArgumentParser 对象\n",
    "parser = argparse.ArgumentParser(description=\"示例参数解析\")\n",
    "\n",
    "# 添加命令行参数\n",
    "parser.add_argument(\"--input\", default=\"1\", type=str, help=\"输入文件路径\")\n",
    "parser.add_argument(\"--output\", default=\"1\", type=str, help=\"输出文件路径\")\n",
    "# parser.add_argument(\"--verbose\", action=\"store_true\", help=\"是否启用详细模式\")\n",
    "\n",
    "# 解析命令行参数\n",
    "args = parser.parse_args()\n",
    "print(type(args))"
   ],
   "id": "a56bf3f2dadeb82b",
   "outputs": [
    {
     "name": "stderr",
     "output_type": "stream",
     "text": [
      "usage: ipykernel_launcher.py [-h] [--input INPUT] [--output OUTPUT]\n",
      "ipykernel_launcher.py: error: unrecognized arguments: -f /root/.local/share/jupyter/runtime/kernel-b18d190e-d5d7-4c5c-8879-0a20fcf7570b.json\n"
     ]
    },
    {
     "ename": "SystemExit",
     "evalue": "2",
     "output_type": "error",
     "traceback": [
      "An exception has occurred, use %tb to see the full traceback.\n",
      "\u001B[0;31mSystemExit\u001B[0m\u001B[0;31m:\u001B[0m 2\n"
     ]
    }
   ],
   "execution_count": 12
  },
  {
   "metadata": {
    "ExecuteTime": {
     "end_time": "2025-01-06T06:40:53.369380Z",
     "start_time": "2025-01-06T06:39:51.016409Z"
    }
   },
   "cell_type": "code",
   "source": [
    "from transformers import AutoModelForCausalLM\n",
    "# from models.firefly_model import FireflyForCausalLM\n",
    "model = AutoModelForCausalLM.from_config(config)"
   ],
   "id": "9a2eacc1a0bdd1f8",
   "outputs": [
    {
     "name": "stdout",
     "output_type": "stream",
     "text": [
      "support: flash_attn_2\n",
      "if flash attn support windowTrue\n",
      "watcher: use torch rmsnorm\n"
     ]
    }
   ],
   "execution_count": 16
  },
  {
   "metadata": {},
   "cell_type": "code",
   "outputs": [],
   "execution_count": null,
   "source": "",
   "id": "49036534ec3a10b3"
  }
 ],
 "metadata": {
  "kernelspec": {
   "display_name": "Python [conda env:llm_dev]",
   "language": "python",
   "name": "conda-env-llm_dev-py"
  },
  "language_info": {
   "codemirror_mode": {
    "name": "ipython",
    "version": 2
   },
   "file_extension": ".py",
   "mimetype": "text/x-python",
   "name": "python",
   "nbconvert_exporter": "python",
   "pygments_lexer": "ipython2",
   "version": "2.7.6"
  }
 },
 "nbformat": 4,
 "nbformat_minor": 5
}
